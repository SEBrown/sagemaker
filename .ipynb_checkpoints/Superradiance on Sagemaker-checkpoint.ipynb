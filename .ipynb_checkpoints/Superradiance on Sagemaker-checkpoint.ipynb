{
 "cells": [
  {
   "cell_type": "markdown",
   "metadata": {},
   "source": [
    "# Scientific Computation on Sagemaker"
   ]
  },
  {
   "cell_type": "markdown",
   "metadata": {},
   "source": [
    "Amazon SageMaker is a fully-managed service that enables developers and data scientists to quickly and easily build, train, and deploy machine learning models at any scale. But besides streamlining the machine learning workflow, SageMaker also provides a powerful, flexible and easy to use compute environment to execute and parallelize a large spectrum of scientific computing tasks. In this notebook we demostrate how to simulate a simple quantum system using Amazon SageMaker."
   ]
  },
  {
   "cell_type": "code",
   "execution_count": 1,
   "metadata": {
    "collapsed": true
   },
   "outputs": [],
   "source": [
    "from scipy import sparse\n",
    "import numpy as np\n",
    "import boto3\n",
    "import os\n",
    "import pickle\n",
    "import matplotlib.pyplot as plt\n",
    "\n",
    "steps = 10\n",
    "N = 3 # Number of nuclear spins\n",
    "dim = 2**(N+1) # Dimension of Hilbert space of N nuclear and 1 electronic spin\n",
    "\n"
   ]
  },
  {
   "cell_type": "code",
   "execution_count": 2,
   "metadata": {},
   "outputs": [],
   "source": [
    "rhoI = sparse.csr_matrix(([1.],([0],[0])),shape =(int(dim/2),int(dim/2))) # All nuclear spins up\n",
    "rhoS = sparse.csr_matrix(([1.],([1],[1])),shape =(2,2))                   # Electron spin down\n",
    "sparse_rho =sparse.kron(rhoS, rhoI)\n",
    "\n",
    "tempfile = '/tmp/tmp.pckl'\n",
    "pickle.dump(sparse_rho, open(tempfile, \"wb\"))\n",
    "\n",
    "resource = boto3.resource('s3') \n",
    "my_bucket = resource.Bucket('sagemaker-kessle31') #subsitute this for your s3 bucket name. \n",
    "my_bucket.upload_file(tempfile, Key='superradiance/initial_state/init.pckl')\n",
    "\n",
    "os.remove(tempfile) #clean-up "
   ]
  },
  {
   "cell_type": "code",
   "execution_count": 154,
   "metadata": {},
   "outputs": [
    {
     "name": "stderr",
     "output_type": "stream",
     "text": [
      "INFO:sagemaker:Creating training-job with name: superradiance-2018-01-17-19-55-42-602\n"
     ]
    },
    {
     "name": "stdout",
     "output_type": "stream",
     "text": [
      ".......................................................\n",
      "\u001b[31mStarting the training.\u001b[0m\n",
      "\u001b[31m['init.npy', 'init.pckl', 'test.npy', 'index.html']\u001b[0m\n",
      "\u001b[31m2018-01-17 20:00:08.015033: I tensorflow/core/platform/cpu_feature_guard.cc:137] Your CPU supports instructions that this TensorFlow binary was not compiled to use: SSE4.1 SSE4.2 AVX AVX2 FMA\u001b[0m\n",
      "\u001b[31mTraining complete.\u001b[0m\n",
      "===== Job Complete =====\n"
     ]
    }
   ],
   "source": [
    "import boto3\n",
    "\n",
    "import os\n",
    "import numpy as np\n",
    "import pandas as pd\n",
    "from sagemaker import get_execution_role\n",
    "import sagemaker as sage\n",
    "from time import gmtime, strftime\n",
    "\n",
    "\n",
    "role = get_execution_role()\n",
    "sess = sage.Session()\n",
    "imagename = 'superradiance'\n",
    "\n",
    "account = sess.boto_session.client('sts').get_caller_identity()['Account']\n",
    "region = sess.boto_session.region_name\n",
    "image = '{}.dkr.ecr.{}.amazonaws.com/{}'.format(account, region, imagename)\n",
    "\n",
    "superradiance = sage.estimator.Estimator(image,\n",
    "                       role, 1, 'ml.c4.2xlarge',\n",
    "                       output_path=\"s3://sagemaker-kessle31/superradiance/output\",\n",
    "                       sagemaker_session=sess)\n",
    "\n",
    "superradiance.hyperparam_dict = {'N': N, 'steps': steps}\n",
    "\n",
    "superradiance.fit(\"s3://sagemaker-kessle31/superradiance/initial_state\")"
   ]
  },
  {
   "cell_type": "code",
   "execution_count": 5,
   "metadata": {},
   "outputs": [],
   "source": [
    "import tarfile\n",
    "\n",
    "results = my_bucket.Object('superradiance/output/{}/output/model.tar.gz'.format(superradiance.latest_training_job.name))\n",
    "tempfile = '/tmp/model.tar.gz'\n",
    "   \n",
    "results.download_file('/tmp/model.tar.gz')    \n",
    "\n",
    "\n",
    "tar = tarfile.open(tempfile, \"r:gz\")\n",
    "tar.extractall(path = '/tmp')\n",
    "out = pickle.load(open('/tmp/out.pckl', \"rb\"))\n",
    "\n",
    "intensity = out['intensity']\n",
    "I_ind = out['I_ind']\n",
    "\n",
    "os.remove(tempfile) #clean-up \n",
    "os.remove('/tmp/out.pckl')"
   ]
  },
  {
   "cell_type": "code",
   "execution_count": 9,
   "metadata": {},
   "outputs": [
    {
     "data": {
      "image/png": "[encoded data removed]",
      "text/plain": [
       "<matplotlib.figure.Figure at 0x7fc5043e0d90>"
      ]
     },
     "metadata": {},
     "output_type": "display_data"
    }
   ],
   "source": [
    "#plt.scatter(range(steps),polarization)\n",
    "plt.scatter(range(steps-1),intensity/I_ind)\n",
    "plt.scatter(range(steps-1), np.exp(-I_ind/N * np.arange(steps-1)))\n",
    "plt.show()"
   ]
  },
  {
   "cell_type": "code",
   "execution_count": null,
   "metadata": {
    "collapsed": true
   },
   "outputs": [],
   "source": []
  }
 ],
 "metadata": {
  "kernelspec": {
   "display_name": "conda_tensorflow_p27",
   "language": "python",
   "name": "conda_tensorflow_p27"
  },
  "language_info": {
   "codemirror_mode": {
    "name": "ipython",
    "version": 2
   },
   "file_extension": ".py",
   "mimetype": "text/x-python",
   "name": "python",
   "nbconvert_exporter": "python",
   "pygments_lexer": "ipython2",
   "version": "2.7.11"
  }
 },
 "nbformat": 4,
 "nbformat_minor": 2
}
