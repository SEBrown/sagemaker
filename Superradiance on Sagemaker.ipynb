{
 "cells": [
  {
   "cell_type": "markdown",
   "metadata": {},
   "source": [
    "# Scientific Computation on Sagemaker"
   ]
  },
  {
   "cell_type": "markdown",
   "metadata": {},
   "source": [
    "Amazon SageMaker is a fully-managed service that enables developers and data scientists to quickly and easily build, train, and deploy machine learning models at any scale. But besides streamlining the machine learning workflow, SageMaker also provides a powerful, flexible and easy to use compute environment to execute and parallelize a large spectrum of scientific computing tasks. In this notebook we demostrate how to simulate a simple quantum system using Amazon SageMaker's _Bring You Own Algorithm_ (BYOA) functionality."
   ]
  },
  {
   "cell_type": "markdown",
   "metadata": {},
   "source": [
    "## Some Background on the Problem (feel free to skip)\n",
    "\n",
    "The quantum effect we are going to simulate is known under the name of [superradiance](https://en.wikipedia.org/wiki/Superradiance \"Wikipedia\"). It describes a phenomenon where, under certain conditions, independent light emitters (such as individual atoms) spontaneously build up quantum coherence and act cooperatively as a single entity. Interestingly, this effect is not based on any interaction between the particles but rather arises purely from symmetry properties of the particles' interaction with the light field. The coherence build-up causes the group to emit light as a high intensity pulse. This pulse is N times (!) stronger than the intensity expected from a group of independent particles, where N is the number of particles in the group.  \n",
    "\n",
    "![Superradiance](superradiance.png)\n",
    "*Fig. 1: Light emission profiles are distincly different for independent (upper panel) and superradiant (lower panel) particle ensembles. Superradiance causes a spatially directed, short time, and high intensity pulse as opposed to the classical exponentially decaying emission profile.*\n",
    "\n",
    "Superradiance has been observed or proposed in [many](https://journals.aps.org/prl/abstract/10.1103/PhysRevLett.30.309 \"Atoms\") [different](http://science.sciencemag.org/content/285/5427/571 \"Bose-Einstein Condensates\") [quantum](https://journals.aps.org/prd/abstract/10.1103/PhysRevD.87.124026 \"Black Holes\") [systems](https://www.nature.com/articles/nphys494 \"Quantum Dot Lattices\"). We are going to examine in the following [superradiance from the nuclear spin ensemble of semiconductor Quantum Dots](https://journals.aps.org/prl/abstract/10.1103/PhysRevLett.104.143601) . "
   ]
  },
  {
   "cell_type": "markdown",
   "metadata": {
    "collapsed": true
   },
   "source": [
    "## Setup"
   ]
  },
  {
   "cell_type": "markdown",
   "metadata": {},
   "source": [
    "When operating in BYOA mode, SageMaker utilizes Amazon Elastic Container Service (ECS) to manage and deploy the Docker images that contain our code. Therefore, running this notebook requires additional permission in addition to the standard SageMakerFullAccess. The easiest way to add these permissions is simply to add the managed policy AmazonEC2ContainerRegistryFullAccess to the role that you used to start your notebook instance in the Sagemaker dashboard. There's no need to restart your notebook instance when you do this, the new permissions will be available immediately.\n",
    "\n",
    "To run this notebook, first, copy this repo onto your SageMaker instance. The repo contains a `container` directory that has all the components you need to package the sample algorithm for Amazon SageMager:\n",
    "\n",
    "    .\n",
    "    ├── Dockerfile\n",
    "    ├── build_and_push.sh\n",
    "    ├── local_test\n",
    "    └── superradiance\n",
    "        ├── train\n",
    "        └── utils.py\n",
    "\n",
    "Let's discuss each of these in turn:\n",
    "\n",
    "* __`Dockerfile`__ describes how to build your Docker container image. More details [here](https://github.com/awslabs/amazon-sagemaker-examples/blob/master/advanced_functionality/scikit_bring_your_own/scikit_bring_your_own.ipynb).\n",
    "* __`build_and_push.sh`__ is a script that users the Dockerfile to build your container images and then pushes it to ECR. \n",
    "* __`superradiance`__ is the directory which contains the files that will be installed in the container, in our case, it's a simple tensorflow script to perform the stepwise evolution of our system's Master Equation.\n",
    "* __`local_test`__ is a directory that shows how to test your new container on any computer that can run Docker, including an Amazon SageMaker notebook instance. Using this method, you can quickly iterate using small datasets to eliminate any structural bugs before you use the container with Amazon SageMaker. \n",
    "\n",
    "`superradiance/train` is the program that is invoked when the container is run for training. It takes a few parameters and the initial state of the system as input, runs a simulation of the system, and returns the emission profile. For the moment, let's not worry about how this simulation works (we'll come back to that later). \n",
    "\n",
    "To build the docker image and push it to ECS we need to run the script `build_and_push.sh`. To this end start a terminal session on your SageMaker notebook instance, navigate to the container directory and run:\n",
    "\n",
    "```\n",
    "chmod +x build_and_push.sh\n",
    "./build_and_push.sh superradiance\n",
    "```\n",
    "\n",
    "The script will build a Docker image from the Dockerfile including the program in the superradiance directory and push it to the ECS repo with name 'superradiance' (argument passed to build_and_push.sh). If the repo doesn't exist it will be created for you. \n",
    "\n",
    "Now we are ready to execute our simulation on SageMaker."
   ]
  },
  {
   "cell_type": "markdown",
   "metadata": {},
   "source": [
    "Let's first import some modules and define some parameters of the simulation"
   ]
  },
  {
   "cell_type": "code",
   "execution_count": 18,
   "metadata": {
    "collapsed": true
   },
   "outputs": [],
   "source": [
    "from scipy import sparse\n",
    "import numpy as np\n",
    "import os\n",
    "import pickle\n",
    "import matplotlib.pyplot as plt\n",
    "\n",
    "import boto3\n",
    "from sagemaker import get_execution_role\n",
    "import sagemaker as sage\n",
    "\n",
    "steps = 500                  # Number of simulated time steps\n",
    "N = 8                        # Number of nuclear spins\n",
    "dim = 2**(N+1)               # Dimension of Hilbert space of N nuclear and 1 electronic spin"
   ]
  },
  {
   "cell_type": "markdown",
   "metadata": {},
   "source": [
    "Let's try out our simulation with 8 nuclear spins and simulating 100 time steps. We will later pass these parameters to our program as 'hyperparameters'. \n",
    "\n",
    "Next, we define the initial state of the system. The state of a quantum system is usually represented through the so-called density matrix. We will define a simple initial state of the nuclear (all pointing up) and electron spins (pointing down) as a sparse matrix. Then we upload this state to S3. The simulation will later retrieve this data to initialize the system."
   ]
  },
  {
   "cell_type": "code",
   "execution_count": 19,
   "metadata": {
    "collapsed": true
   },
   "outputs": [],
   "source": [
    "# Define Nuclear and Electron spin states as density matrices\n",
    "rhoI = sparse.csr_matrix(([1.],([0],[0])),shape =(int(dim/2),int(dim/2))) # All nuclear spins up\n",
    "rhoS = sparse.csr_matrix(([1.],([1],[1])),shape =(2,2))                   # Electron spin down\n",
    "sparse_rho =sparse.kron(rhoS, rhoI)                                       # Build the system density matrix\n",
    "\n",
    "tempfile = '/tmp/tmp.pckl'\n",
    "pickle.dump(sparse_rho, open(tempfile, \"wb\"))\n",
    "\n",
    "# Upload serialized initial state to S3\n",
    "resource = boto3.resource('s3') \n",
    "my_bucket = resource.Bucket('sagemaker-kessle31')                         #subsitute this for your s3 bucket name. \n",
    "my_bucket.upload_file(tempfile, Key='superradiance/initial_state/init.pckl')\n",
    "\n",
    "# Clean-up temporary files\n",
    "os.remove(tempfile)  "
   ]
  },
  {
   "cell_type": "markdown",
   "metadata": {},
   "source": [
    "At time=0 our system is initialized to all nuclear spins pointing 'up', and the electron spin pointing 'down'. Now everything is ready to ship our simulation. After specifying the Docker image to be used, we will create a training job that specifies the hardware to be used for the simulation. SageMaker will then spin up the requested instances, pull the specified Docker image from ECS, and execute the job. "
   ]
  },
  {
   "cell_type": "code",
   "execution_count": 20,
   "metadata": {},
   "outputs": [
    {
     "name": "stderr",
     "output_type": "stream",
     "text": [
      "INFO:sagemaker:Creating training-job with name: superradiance-2018-01-18-16-48-12-815\n"
     ]
    },
    {
     "name": "stdout",
     "output_type": "stream",
     "text": [
      ".......................................................\n",
      "\u001b[31mStarting the training.\u001b[0m\n",
      "\u001b[31m['init.npy', 'index.html', 'init.pckl', 'test.npy']\u001b[0m\n",
      "\u001b[31m2018-01-18 16:52:33.767503: I tensorflow/core/platform/cpu_feature_guard.cc:137] Your CPU supports instructions that this TensorFlow binary was not compiled to use: SSE4.1 SSE4.2 AVX AVX2 FMA\u001b[0m\n",
      "\u001b[31mTraining complete.\u001b[0m\n",
      "===== Job Complete =====\n"
     ]
    }
   ],
   "source": [
    "role = get_execution_role()\n",
    "sess = sage.Session()\n",
    "\n",
    "# Specify the name of the ECS repo that contains your docker image. \n",
    "# By default the image with tag 'latest' in the repo will be utilized.\n",
    "imagename = 'superradiance'  \n",
    "\n",
    "account = sess.boto_session.client('sts').get_caller_identity()['Account']\n",
    "region = sess.boto_session.region_name\n",
    "image = '{}.dkr.ecr.{}.amazonaws.com/{}'.format(account, region, imagename)\n",
    "\n",
    "# Define the training job\n",
    "superradiance = sage.estimator.Estimator(image,\n",
    "                       role, 1, 'ml.c4.2xlarge',\n",
    "                       output_path=\"s3://sagemaker-kessle31/superradiance/output\",\n",
    "                       sagemaker_session=sess)\n",
    "\n",
    "# Parameters can be passed to the simulation as a dictionary\n",
    "superradiance.hyperparam_dict = {'N': N, 'steps': steps}\n",
    "\n",
    "# Pass the location of the training data (see above) and start the job\n",
    "superradiance.fit(\"s3://sagemaker-kessle31/superradiance/initial_state\")"
   ]
  },
  {
   "cell_type": "markdown",
   "metadata": {},
   "source": [
    "The results of the simulation will be placed as a tar.gz file in the S3 location specified by `output_path`. Let's have a look at the results!"
   ]
  },
  {
   "cell_type": "code",
   "execution_count": 24,
   "metadata": {},
   "outputs": [
    {
     "data": {
      "image/png": "[encoded data removed]",
      "text/plain": [
       "<matplotlib.figure.Figure at 0x7fc4d5fb63d0>"
      ]
     },
     "metadata": {},
     "output_type": "display_data"
    }
   ],
   "source": [
    "import tarfile\n",
    "\n",
    "# get the results from S3\n",
    "results = my_bucket.Object('superradiance/output/{}/output/model.tar.gz'.format(superradiance.latest_training_job.name))\n",
    "tempfile = '/tmp/model.tar.gz'   \n",
    "results.download_file('/tmp/model.tar.gz')    \n",
    "\n",
    "# unzip the results\n",
    "tar = tarfile.open(tempfile, \"r:gz\")\n",
    "tar.extractall(path = '/tmp')\n",
    "\n",
    "# load the results into the notebook\n",
    "out = pickle.load(open('/tmp/out.pckl', \"rb\"))\n",
    "intensity = out['intensity']\n",
    "I_ind = out['I_ind']\n",
    "\n",
    "# clean-up temporary files\n",
    "os.remove(tempfile) \n",
    "\n",
    "# Vizualize the results\n",
    "plt.scatter(range(steps-1),intensity/I_ind, label = 'Simulated System')\n",
    "plt.scatter(range(steps-1), np.exp(-I_ind/N * np.arange(steps-1)), label = 'Classical system benchmark')\n",
    "plt.xlabel('Time [a.u.]')\n",
    "plt.ylabel('Intensity of emitted radiation [normalized]')\n",
    "plt.legend()\n",
    "\n",
    "plt.show()"
   ]
  }
 ],
 "metadata": {
  "kernelspec": {
   "display_name": "conda_tensorflow_p27",
   "language": "python",
   "name": "conda_tensorflow_p27"
  },
  "language_info": {
   "codemirror_mode": {
    "name": "ipython",
    "version": 2
   },
   "file_extension": ".py",
   "mimetype": "text/x-python",
   "name": "python",
   "nbconvert_exporter": "python",
   "pygments_lexer": "ipython2",
   "version": "2.7.11"
  }
 },
 "nbformat": 4,
 "nbformat_minor": 2
}
